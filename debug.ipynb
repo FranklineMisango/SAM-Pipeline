{
 "cells": [
  {
   "cell_type": "code",
   "execution_count": 1,
   "metadata": {},
   "outputs": [
    {
     "name": "stderr",
     "output_type": "stream",
     "text": [
      "/home/misango/anaconda3/envs/sam_env/lib/python3.11/site-packages/tqdm/auto.py:21: TqdmWarning: IProgress not found. Please update jupyter and ipywidgets. See https://ipywidgets.readthedocs.io/en/stable/user_install.html\n",
      "  from .autonotebook import tqdm as notebook_tqdm\n",
      "/home/misango/anaconda3/envs/sam_env/lib/python3.11/site-packages/sam2/modeling/sam/transformer.py:23: UserWarning: Flash Attention is disabled as it requires a GPU with Ampere (8.0) CUDA capability.\n",
      "  OLD_GPU, USE_FLASH_ATTN, MATH_KERNEL_ON = get_sdpa_settings()\n"
     ]
    }
   ],
   "source": [
    "#Import the values\n",
    "from lang_sam import LangSAM\n",
    "import numpy as np\n",
    "from PIL import Image, ImageDraw, ImageFont"
   ]
  },
  {
   "cell_type": "code",
   "execution_count": 2,
   "metadata": {},
   "outputs": [],
   "source": [
    "model = LangSAM()"
   ]
  },
  {
   "cell_type": "code",
   "execution_count": 3,
   "metadata": {},
   "outputs": [],
   "source": [
    "# Allow image upload here and save it as a file i.e original_image = st.file_uploader(\"Drop the image\", type=['png', 'jpg', 'jpeg'])\n",
    "# Load the image\n",
    "original_image = Image.open('city.jpg')"
   ]
  },
  {
   "cell_type": "code",
   "execution_count": 11,
   "metadata": {},
   "outputs": [
    {
     "name": "stdout",
     "output_type": "stream",
     "text": [
      "Number of objects you want to label are confirmed as 1\n",
      "Predicting for prompt: bird\n",
      "Predicting 1 masks\n"
     ]
    },
    {
     "name": "stderr",
     "output_type": "stream",
     "text": [
      "/home/misango/anaconda3/envs/sam_env/lib/python3.11/site-packages/torchvision/transforms/functional.py:154: UserWarning: The given NumPy array is not writable, and PyTorch does not support non-writable tensors. This means writing to this tensor will result in undefined behavior. You may want to copy the array to protect its data or make it writable before converting it to a tensor. This type of warning will be suppressed for the rest of this program. (Triggered internally at ../torch/csrc/utils/tensor_numpy.cpp:206.)\n",
      "  img = torch.from_numpy(pic.transpose((2, 0, 1))).contiguous()\n"
     ]
    },
    {
     "name": "stdout",
     "output_type": "stream",
     "text": [
      "Predicted 1 masks\n",
      "Raw prediction results: [{'scores': array([0.5679366], dtype=float32), 'labels': ['bird'], 'boxes': array([[1013.1212, 1820.2561, 1057.6545, 1881.7363]], dtype=float32), 'masks': array([[[0., 0., 0., ..., 0., 0., 0.],\n",
      "        [0., 0., 0., ..., 0., 0., 0.],\n",
      "        [0., 0., 0., ..., 0., 0., 0.],\n",
      "        ...,\n",
      "        [0., 0., 0., ..., 0., 0., 0.],\n",
      "        [0., 0., 0., ..., 0., 0., 0.],\n",
      "        [0., 0., 0., ..., 0., 0., 0.]]], dtype=float32), 'mask_scores': array(0.87109375, dtype=float32)}]\n",
      "Prediction result: masks=[[[0. 0. 0. ... 0. 0. 0.]\n",
      "  [0. 0. 0. ... 0. 0. 0.]\n",
      "  [0. 0. 0. ... 0. 0. 0.]\n",
      "  ...\n",
      "  [0. 0. 0. ... 0. 0. 0.]\n",
      "  [0. 0. 0. ... 0. 0. 0.]\n",
      "  [0. 0. 0. ... 0. 0. 0.]]], boxes=[[1013.1212 1820.2561 1057.6545 1881.7363]], phrases=['bird'], logits=[0.5679366]\n"
     ]
    }
   ],
   "source": [
    "model = LangSAM()\n",
    "\n",
    "image_pil = original_image.convert(\"RGB\")\n",
    "num_objects = input(\"How many things in the image would you like to label?\")\n",
    "if num_objects:\n",
    "    num_objects = int(num_objects)  # Convert the input to an integer\n",
    "    print(f\"Number of objects you want to label are confirmed as {num_objects}\")\n",
    "\n",
    "    # Collecting text prompts from the user\n",
    "    text_prompts = []\n",
    "    for i in range(num_objects):\n",
    "        text_prompt = input(f\"Enter the thing you want to label (Label {i+1})\")\n",
    "        if text_prompt:\n",
    "            text_prompts.append(text_prompt)\n",
    "\n",
    "    if len(text_prompts) == num_objects:\n",
    "        try:\n",
    "            # Perform predictions for each text prompt\n",
    "            predictions = []\n",
    "            for text_prompt in text_prompts:\n",
    "                print(f\"Predicting for prompt: {text_prompt}\")\n",
    "                results = model.predict([image_pil], [text_prompt])\n",
    "                print(f\"Raw prediction results: {results}\")\n",
    "                for result in results:\n",
    "                    if \"masks\" in result and \"boxes\" in result and \"scores\" in result:\n",
    "                        masks = result[\"masks\"]\n",
    "                        boxes = result[\"boxes\"]\n",
    "                        phrases = [text_prompt] * len(boxes)  # Using the text prompt as the phrase\n",
    "                        logits = result[\"scores\"]\n",
    "                        print(f\"Prediction result: masks={masks}, boxes={boxes}, phrases={phrases}, logits={logits}\")\n",
    "                        predictions.append((masks, boxes, phrases, logits))\n",
    "                    else:\n",
    "                        print(f\"Unexpected prediction result format: {result}\")\n",
    "                        continue  # Skip this prediction if the format is unexpected\n",
    "\n",
    "            # Draw predictions for each text prompt on the input image\n",
    "            image_array = np.asarray(image_pil)\n",
    "            draw = ImageDraw.Draw(image_pil)\n",
    "            font = ImageFont.load_default()  # You can choose a custom font if needed\n",
    "\n",
    "            # Define a list of colors for labeling\n",
    "            colors = [\"red\", \"green\", \"blue\", \"yellow\", \"purple\", \"orange\", \"cyan\", \"magenta\"]\n",
    "\n",
    "            for i, (masks, boxes, phrases, logits) in enumerate(predictions):\n",
    "                labels = [f\"{phrase} {logit:.2f}\" for phrase, logit in zip(phrases, logits)]\n",
    "                label_color = colors[i % len(colors)]  # Change label color based on the prompt\n",
    "\n",
    "                for label, box in zip(labels, boxes):\n",
    "                    x0, y0, x1, y1 = box  # Unpack the coordinates\n",
    "                    draw.rectangle([x0, y0, x1, y1], outline=label_color)  # Draw the rectangle\n",
    "                    draw.text((x0, y0), label, fill=label_color, font=font)  # Draw the label\n",
    "        except TypeError as e:\n",
    "            print(f\"TypeError in model.predict: {e}\")\n",
    "        except Exception as e:\n",
    "            print(f\"An error occurred during prediction: {e}\")"
   ]
  },
  {
   "cell_type": "code",
   "execution_count": 13,
   "metadata": {},
   "outputs": [],
   "source": [
    "# Display the image with predictions\n",
    "image_pil.show()\n"
   ]
  }
 ],
 "metadata": {
  "kernelspec": {
   "display_name": "sam_env",
   "language": "python",
   "name": "python3"
  },
  "language_info": {
   "codemirror_mode": {
    "name": "ipython",
    "version": 3
   },
   "file_extension": ".py",
   "mimetype": "text/x-python",
   "name": "python",
   "nbconvert_exporter": "python",
   "pygments_lexer": "ipython3",
   "version": "3.11.10"
  }
 },
 "nbformat": 4,
 "nbformat_minor": 2
}
